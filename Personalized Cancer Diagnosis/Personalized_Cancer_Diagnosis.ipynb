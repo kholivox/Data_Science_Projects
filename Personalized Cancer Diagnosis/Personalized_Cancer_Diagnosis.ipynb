{
 "cells": [
  {
   "cell_type": "code",
   "execution_count": 2,
   "id": "aab24ab1",
   "metadata": {},
   "outputs": [],
   "source": [
    "import csv\n",
    "import pandas as pd\n",
    "import numpy as np\n",
    "import matplotlib.pyplot as plt\n",
    "import seaborn as sns"
   ]
  },
  {
   "cell_type": "code",
   "execution_count": 3,
   "id": "29473db7",
   "metadata": {},
   "outputs": [],
   "source": [
    "Data_1 = pd.read_csv(\"training_text.csv\", sep=r'\\|\\|', engine='python')\n",
    "Data_2 = pd.read_csv(\"training_variants.csv\")"
   ]
  },
  {
   "cell_type": "code",
   "execution_count": 4,
   "id": "75ff00da",
   "metadata": {},
   "outputs": [],
   "source": [
    "Data_1.reset_index(inplace=True)\n",
    "Data_1.rename(columns={'index': 'ID'}, inplace=True)"
   ]
  },
  {
   "cell_type": "code",
   "execution_count": 5,
   "id": "bfc46918",
   "metadata": {},
   "outputs": [],
   "source": [
    "Data_1.rename(columns={'ID,Text': 'Text'}, inplace=True)"
   ]
  },
  {
   "cell_type": "code",
   "execution_count": 6,
   "id": "041906a0",
   "metadata": {},
   "outputs": [
    {
     "data": {
      "text/html": [
       "<div>\n",
       "<style scoped>\n",
       "    .dataframe tbody tr th:only-of-type {\n",
       "        vertical-align: middle;\n",
       "    }\n",
       "\n",
       "    .dataframe tbody tr th {\n",
       "        vertical-align: top;\n",
       "    }\n",
       "\n",
       "    .dataframe thead th {\n",
       "        text-align: right;\n",
       "    }\n",
       "</style>\n",
       "<table border=\"1\" class=\"dataframe\">\n",
       "  <thead>\n",
       "    <tr style=\"text-align: right;\">\n",
       "      <th></th>\n",
       "      <th>ID</th>\n",
       "      <th>Text</th>\n",
       "    </tr>\n",
       "  </thead>\n",
       "  <tbody>\n",
       "    <tr>\n",
       "      <th>0</th>\n",
       "      <td>0</td>\n",
       "      <td>Cyclin-dependent kinases (CDKs) regulate a var...</td>\n",
       "    </tr>\n",
       "    <tr>\n",
       "      <th>1</th>\n",
       "      <td>1</td>\n",
       "      <td>Abstract Background  Non-small cell lung canc...</td>\n",
       "    </tr>\n",
       "    <tr>\n",
       "      <th>2</th>\n",
       "      <td>2</td>\n",
       "      <td>Abstract Background  Non-small cell lung canc...</td>\n",
       "    </tr>\n",
       "    <tr>\n",
       "      <th>3</th>\n",
       "      <td>3</td>\n",
       "      <td>Recent evidence has demonstrated that acquired...</td>\n",
       "    </tr>\n",
       "    <tr>\n",
       "      <th>4</th>\n",
       "      <td>4</td>\n",
       "      <td>Oncogenic mutations in the monomeric Casitas B...</td>\n",
       "    </tr>\n",
       "  </tbody>\n",
       "</table>\n",
       "</div>"
      ],
      "text/plain": [
       "   ID                                               Text\n",
       "0   0  Cyclin-dependent kinases (CDKs) regulate a var...\n",
       "1   1   Abstract Background  Non-small cell lung canc...\n",
       "2   2   Abstract Background  Non-small cell lung canc...\n",
       "3   3  Recent evidence has demonstrated that acquired...\n",
       "4   4  Oncogenic mutations in the monomeric Casitas B..."
      ]
     },
     "execution_count": 6,
     "metadata": {},
     "output_type": "execute_result"
    }
   ],
   "source": [
    "Data_1.head()"
   ]
  },
  {
   "cell_type": "code",
   "execution_count": 7,
   "id": "d2f04056",
   "metadata": {},
   "outputs": [
    {
     "data": {
      "text/html": [
       "<div>\n",
       "<style scoped>\n",
       "    .dataframe tbody tr th:only-of-type {\n",
       "        vertical-align: middle;\n",
       "    }\n",
       "\n",
       "    .dataframe tbody tr th {\n",
       "        vertical-align: top;\n",
       "    }\n",
       "\n",
       "    .dataframe thead th {\n",
       "        text-align: right;\n",
       "    }\n",
       "</style>\n",
       "<table border=\"1\" class=\"dataframe\">\n",
       "  <thead>\n",
       "    <tr style=\"text-align: right;\">\n",
       "      <th></th>\n",
       "      <th>ID</th>\n",
       "      <th>Gene</th>\n",
       "      <th>Variation</th>\n",
       "      <th>Class</th>\n",
       "    </tr>\n",
       "  </thead>\n",
       "  <tbody>\n",
       "    <tr>\n",
       "      <th>0</th>\n",
       "      <td>0</td>\n",
       "      <td>FAM58A</td>\n",
       "      <td>Truncating Mutations</td>\n",
       "      <td>1</td>\n",
       "    </tr>\n",
       "    <tr>\n",
       "      <th>1</th>\n",
       "      <td>1</td>\n",
       "      <td>CBL</td>\n",
       "      <td>W802*</td>\n",
       "      <td>2</td>\n",
       "    </tr>\n",
       "    <tr>\n",
       "      <th>2</th>\n",
       "      <td>2</td>\n",
       "      <td>CBL</td>\n",
       "      <td>Q249E</td>\n",
       "      <td>2</td>\n",
       "    </tr>\n",
       "    <tr>\n",
       "      <th>3</th>\n",
       "      <td>3</td>\n",
       "      <td>CBL</td>\n",
       "      <td>N454D</td>\n",
       "      <td>3</td>\n",
       "    </tr>\n",
       "    <tr>\n",
       "      <th>4</th>\n",
       "      <td>4</td>\n",
       "      <td>CBL</td>\n",
       "      <td>L399V</td>\n",
       "      <td>4</td>\n",
       "    </tr>\n",
       "  </tbody>\n",
       "</table>\n",
       "</div>"
      ],
      "text/plain": [
       "   ID    Gene             Variation  Class\n",
       "0   0  FAM58A  Truncating Mutations      1\n",
       "1   1     CBL                 W802*      2\n",
       "2   2     CBL                 Q249E      2\n",
       "3   3     CBL                 N454D      3\n",
       "4   4     CBL                 L399V      4"
      ]
     },
     "execution_count": 7,
     "metadata": {},
     "output_type": "execute_result"
    }
   ],
   "source": [
    "Data_2.head()"
   ]
  },
  {
   "cell_type": "code",
   "execution_count": 8,
   "id": "b773f42d",
   "metadata": {},
   "outputs": [
    {
     "name": "stdout",
     "output_type": "stream",
     "text": [
      "\u001b[94mColumns in Data_1:\u001b[0m Index(['ID', 'Text'], dtype='object')\n",
      "\u001b[94mColumns in Data_2:\u001b[0m Index(['ID', 'Gene', 'Variation', 'Class'], dtype='object')\n"
     ]
    }
   ],
   "source": [
    "print(\"\\033[94mColumns in Data_1:\\033[0m\", Data_1.columns)\n",
    "print(\"\\033[94mColumns in Data_2:\\033[0m\", Data_2.columns)"
   ]
  },
  {
   "cell_type": "code",
   "execution_count": 9,
   "id": "b7e78732",
   "metadata": {},
   "outputs": [
    {
     "name": "stdout",
     "output_type": "stream",
     "text": [
      "\u001b[94mIndex of Data_1:\u001b[0m RangeIndex(start=0, stop=3321, step=1)\n",
      "\u001b[94mIndex of Data_2:\u001b[0m RangeIndex(start=0, stop=3321, step=1)\n"
     ]
    }
   ],
   "source": [
    "print(\"\\033[94mIndex of Data_1:\\033[0m\", Data_1.index)\n",
    "print(\"\\033[94mIndex of Data_2:\\033[0m\", Data_2.index)"
   ]
  },
  {
   "cell_type": "code",
   "execution_count": 10,
   "id": "c5310516",
   "metadata": {},
   "outputs": [],
   "source": [
    "Merge_Data = pd.merge(Data_1, Data_2, on='ID')"
   ]
  },
  {
   "cell_type": "code",
   "execution_count": 11,
   "id": "1544d672",
   "metadata": {},
   "outputs": [
    {
     "data": {
      "text/html": [
       "<div>\n",
       "<style scoped>\n",
       "    .dataframe tbody tr th:only-of-type {\n",
       "        vertical-align: middle;\n",
       "    }\n",
       "\n",
       "    .dataframe tbody tr th {\n",
       "        vertical-align: top;\n",
       "    }\n",
       "\n",
       "    .dataframe thead th {\n",
       "        text-align: right;\n",
       "    }\n",
       "</style>\n",
       "<table border=\"1\" class=\"dataframe\">\n",
       "  <thead>\n",
       "    <tr style=\"text-align: right;\">\n",
       "      <th></th>\n",
       "      <th>ID</th>\n",
       "      <th>Text</th>\n",
       "      <th>Gene</th>\n",
       "      <th>Variation</th>\n",
       "      <th>Class</th>\n",
       "    </tr>\n",
       "  </thead>\n",
       "  <tbody>\n",
       "    <tr>\n",
       "      <th>0</th>\n",
       "      <td>0</td>\n",
       "      <td>Cyclin-dependent kinases (CDKs) regulate a var...</td>\n",
       "      <td>FAM58A</td>\n",
       "      <td>Truncating Mutations</td>\n",
       "      <td>1</td>\n",
       "    </tr>\n",
       "    <tr>\n",
       "      <th>1</th>\n",
       "      <td>1</td>\n",
       "      <td>Abstract Background  Non-small cell lung canc...</td>\n",
       "      <td>CBL</td>\n",
       "      <td>W802*</td>\n",
       "      <td>2</td>\n",
       "    </tr>\n",
       "    <tr>\n",
       "      <th>2</th>\n",
       "      <td>2</td>\n",
       "      <td>Abstract Background  Non-small cell lung canc...</td>\n",
       "      <td>CBL</td>\n",
       "      <td>Q249E</td>\n",
       "      <td>2</td>\n",
       "    </tr>\n",
       "    <tr>\n",
       "      <th>3</th>\n",
       "      <td>3</td>\n",
       "      <td>Recent evidence has demonstrated that acquired...</td>\n",
       "      <td>CBL</td>\n",
       "      <td>N454D</td>\n",
       "      <td>3</td>\n",
       "    </tr>\n",
       "    <tr>\n",
       "      <th>4</th>\n",
       "      <td>4</td>\n",
       "      <td>Oncogenic mutations in the monomeric Casitas B...</td>\n",
       "      <td>CBL</td>\n",
       "      <td>L399V</td>\n",
       "      <td>4</td>\n",
       "    </tr>\n",
       "    <tr>\n",
       "      <th>5</th>\n",
       "      <td>5</td>\n",
       "      <td>Oncogenic mutations in the monomeric Casitas B...</td>\n",
       "      <td>CBL</td>\n",
       "      <td>V391I</td>\n",
       "      <td>4</td>\n",
       "    </tr>\n",
       "    <tr>\n",
       "      <th>6</th>\n",
       "      <td>6</td>\n",
       "      <td>Oncogenic mutations in the monomeric Casitas B...</td>\n",
       "      <td>CBL</td>\n",
       "      <td>V430M</td>\n",
       "      <td>5</td>\n",
       "    </tr>\n",
       "    <tr>\n",
       "      <th>7</th>\n",
       "      <td>7</td>\n",
       "      <td>CBL is a negative regulator of activated recep...</td>\n",
       "      <td>CBL</td>\n",
       "      <td>Deletion</td>\n",
       "      <td>1</td>\n",
       "    </tr>\n",
       "    <tr>\n",
       "      <th>8</th>\n",
       "      <td>8</td>\n",
       "      <td>Abstract Juvenile myelomonocytic leukemia (JM...</td>\n",
       "      <td>CBL</td>\n",
       "      <td>Y371H</td>\n",
       "      <td>4</td>\n",
       "    </tr>\n",
       "    <tr>\n",
       "      <th>9</th>\n",
       "      <td>9</td>\n",
       "      <td>Abstract Juvenile myelomonocytic leukemia (JM...</td>\n",
       "      <td>CBL</td>\n",
       "      <td>C384R</td>\n",
       "      <td>4</td>\n",
       "    </tr>\n",
       "  </tbody>\n",
       "</table>\n",
       "</div>"
      ],
      "text/plain": [
       "   ID                                               Text    Gene  \\\n",
       "0   0  Cyclin-dependent kinases (CDKs) regulate a var...  FAM58A   \n",
       "1   1   Abstract Background  Non-small cell lung canc...     CBL   \n",
       "2   2   Abstract Background  Non-small cell lung canc...     CBL   \n",
       "3   3  Recent evidence has demonstrated that acquired...     CBL   \n",
       "4   4  Oncogenic mutations in the monomeric Casitas B...     CBL   \n",
       "5   5  Oncogenic mutations in the monomeric Casitas B...     CBL   \n",
       "6   6  Oncogenic mutations in the monomeric Casitas B...     CBL   \n",
       "7   7  CBL is a negative regulator of activated recep...     CBL   \n",
       "8   8   Abstract Juvenile myelomonocytic leukemia (JM...     CBL   \n",
       "9   9   Abstract Juvenile myelomonocytic leukemia (JM...     CBL   \n",
       "\n",
       "              Variation  Class  \n",
       "0  Truncating Mutations      1  \n",
       "1                 W802*      2  \n",
       "2                 Q249E      2  \n",
       "3                 N454D      3  \n",
       "4                 L399V      4  \n",
       "5                 V391I      4  \n",
       "6                 V430M      5  \n",
       "7              Deletion      1  \n",
       "8                 Y371H      4  \n",
       "9                 C384R      4  "
      ]
     },
     "execution_count": 11,
     "metadata": {},
     "output_type": "execute_result"
    }
   ],
   "source": [
    "Merge_Data.head(10)"
   ]
  },
  {
   "cell_type": "code",
   "execution_count": 12,
   "id": "4f3d74a3",
   "metadata": {},
   "outputs": [
    {
     "data": {
      "text/plain": [
       "ID           0\n",
       "Text         5\n",
       "Gene         0\n",
       "Variation    0\n",
       "Class        0\n",
       "dtype: int64"
      ]
     },
     "execution_count": 12,
     "metadata": {},
     "output_type": "execute_result"
    }
   ],
   "source": [
    "Merge_Data.isnull().sum()"
   ]
  },
  {
   "cell_type": "code",
   "execution_count": 13,
   "id": "f8328a94",
   "metadata": {},
   "outputs": [
    {
     "data": {
      "text/plain": [
       "0"
      ]
     },
     "execution_count": 13,
     "metadata": {},
     "output_type": "execute_result"
    }
   ],
   "source": [
    "Merge_Data.duplicated().sum()"
   ]
  },
  {
   "cell_type": "code",
   "execution_count": 14,
   "id": "cd6536ac",
   "metadata": {},
   "outputs": [],
   "source": [
    "Merge_Data.dropna(axis = 0, inplace = True)"
   ]
  },
  {
   "cell_type": "code",
   "execution_count": 15,
   "id": "1a2b2bb5",
   "metadata": {},
   "outputs": [
    {
     "data": {
      "text/plain": [
       "ID           0\n",
       "Text         0\n",
       "Gene         0\n",
       "Variation    0\n",
       "Class        0\n",
       "dtype: int64"
      ]
     },
     "execution_count": 15,
     "metadata": {},
     "output_type": "execute_result"
    }
   ],
   "source": [
    "Merge_Data.isnull().sum()"
   ]
  },
  {
   "cell_type": "code",
   "execution_count": 16,
   "id": "eb9c072d",
   "metadata": {},
   "outputs": [
    {
     "name": "stdout",
     "output_type": "stream",
     "text": [
      "<class 'pandas.core.frame.DataFrame'>\n",
      "Index: 3316 entries, 0 to 3320\n",
      "Data columns (total 5 columns):\n",
      " #   Column     Non-Null Count  Dtype \n",
      "---  ------     --------------  ----- \n",
      " 0   ID         3316 non-null   int64 \n",
      " 1   Text       3316 non-null   object\n",
      " 2   Gene       3316 non-null   object\n",
      " 3   Variation  3316 non-null   object\n",
      " 4   Class      3316 non-null   int64 \n",
      "dtypes: int64(2), object(3)\n",
      "memory usage: 155.4+ KB\n"
     ]
    }
   ],
   "source": [
    "Merge_Data.info()"
   ]
  },
  {
   "cell_type": "markdown",
   "id": "c604f166",
   "metadata": {},
   "source": [
    "<span style=\"display: block; width: 100%; height: 4px; background-color: #3498db;\"></span>"
   ]
  },
  {
   "cell_type": "markdown",
   "id": "f06cd50a",
   "metadata": {},
   "source": [
    "<font color=\"red\" size=\"+4\"><strong>NLP</strong></font>"
   ]
  },
  {
   "cell_type": "markdown",
   "id": "d9ad95d9",
   "metadata": {},
   "source": [
    "<font color=\"blue\">\n",
    "\n",
    "**Numerical:-->** **ID**, **Class**\n",
    "\n",
    "**Textual:-->** **Text**\n",
    "\n",
    "**Categorical:-->** **Gene**, **Variation**\n",
    "\n",
    "</font>\n"
   ]
  },
  {
   "cell_type": "markdown",
   "id": "45ee160d",
   "metadata": {},
   "source": [
    "<span style=\"display: block; width: 100%; height: 4px; background-color: #3498db;\"></span>"
   ]
  },
  {
   "cell_type": "code",
   "execution_count": 17,
   "id": "19d30a4f",
   "metadata": {},
   "outputs": [],
   "source": [
    "from sklearn import preprocessing\n",
    "\n",
    "label_encoder = preprocessing.LabelEncoder()\n",
    "\n",
    "Merge_Data['Gene'] = label_encoder.fit_transform(Merge_Data['Gene'])\n",
    "Merge_Data['Variation'] = label_encoder.fit_transform(Merge_Data['Variation'])"
   ]
  },
  {
   "cell_type": "code",
   "execution_count": 18,
   "id": "097187ed",
   "metadata": {},
   "outputs": [
    {
     "data": {
      "text/plain": [
       "Gene\n",
       "30     264\n",
       "250    163\n",
       "65     141\n",
       "194    126\n",
       "31     125\n",
       "      ... \n",
       "214      1\n",
       "184      1\n",
       "189      1\n",
       "257      1\n",
       "84       1\n",
       "Name: count, Length: 262, dtype: int64"
      ]
     },
     "execution_count": 18,
     "metadata": {},
     "output_type": "execute_result"
    }
   ],
   "source": [
    "Merge_Data[\"Gene\"].value_counts()"
   ]
  },
  {
   "cell_type": "raw",
   "id": "4fed8e03",
   "metadata": {},
   "source": [
    "from sklearn.feature_extraction.text import TfidfVectorizer\n",
    "import pandas as pd\n",
    "\n",
    "Merge_Data['Text'] = Merge_Data['Text'].str.lower()\n",
    "Merge_Data['Text'] = Merge_Data['Text'].replace('[^\\w\\s]', '', regex=True)\n",
    "\n",
    "tfidf_vectorizer = TfidfVectorizer(stop_words='english', max_features=5000)\n",
    "\n",
    "text_features = tfidf_vectorizer.fit_transform(Merge_Data['Text'].astype('U'))\n",
    "\n",
    "text_df = pd.DataFrame(text_features.toarray(), columns=tfidf_vectorizer.get_feature_names_out())\n",
    "\n",
    "Merge_Data = pd.concat([Merge_Data, text_df], axis=1)\n",
    "\n",
    "Merge_Data = Merge_Data.drop('Text', axis=1)\n",
    "\n",
    "print(Merge_Data.head())"
   ]
  },
  {
   "cell_type": "code",
   "execution_count": null,
   "id": "9c9803b5",
   "metadata": {},
   "outputs": [],
   "source": [
    "sns.countplot(x='Class', data=Merge_Data,color = \"limegreen\")\n",
    "plt.title('Distribution of Classes')\n",
    "plt.show()"
   ]
  },
  {
   "cell_type": "markdown",
   "id": "e511b2f9",
   "metadata": {},
   "source": [
    "<span style=\"display: block; width: 100%; height: 4px; background-color: #3498db;\"></span>"
   ]
  },
  {
   "cell_type": "markdown",
   "id": "80f9a12e",
   "metadata": {},
   "source": [
    "<font color=\"navy\">\n",
    "\n",
    "**1. Seaborn Countplot:**\n",
    "   **- The code utilizes `seaborn` to create a countplot for the 'Class' variable in the DataFrame `Merge_Data`.**\n",
    "\n",
    "**2. Class Distribution Visualization:**\n",
    "   **- It visually represents the distribution of classes within the 'Class' variable.**\n",
    "\n",
    "**3. Counting Occurrences:**\n",
    "   **- The height of each bar in the countplot corresponds to the number of occurrences of each class.**\n",
    "\n",
    "**4. Data Analysis:**\n",
    "   **- Countplots are useful for analyzing the distribution and frequency of categorical variables.**\n",
    "\n",
    "**5. Title Setting:**\n",
    "   **- The title of the countplot is set as **'Distribution of Classes'** using `plt.title`.**\n",
    "\n",
    "**6. Insights into Class Frequency:**\n",
    "   **- The plot provides insights into the frequency of each class within the dataset.**\n",
    "\n",
    "**7. Visual Summary:**\n",
    "   **- The code offers a visual summary of the distribution of classes.**\n",
    "\n",
    "**8. Useful for Initial Data Exploration:**\n",
    "   **- Countplots are valuable for initial data exploration and understanding the composition of categorical variables.**\n",
    "\n",
    "**9. Crucial for Classification Tasks:**\n",
    "   **- Understanding class distribution is crucial for tasks like classification, where balanced datasets are often preferred.**\n",
    "\n",
    "**10. Plot Display:**\n",
    "    **- The plot is displayed using `plt.show()`.**\n",
    "\n",
    "</font>\n",
    "\n",
    "<span style=\"display: block; width: 100%; height: 4px; background-color: #3498db;\"></span>"
   ]
  },
  {
   "cell_type": "code",
   "execution_count": null,
   "id": "0d25cf05",
   "metadata": {},
   "outputs": [],
   "source": [
    "custom_palette = sns.color_palette(\"husl\", n_colors=len(Merge_Data['Class'].unique()))\n",
    "sns.pairplot(Merge_Data[['Gene', 'Variation', 'Class']], hue='Class', palette=custom_palette, markers='o')\n",
    "plt.suptitle('Pairplot for Selected Columns', y=1.02,color= \"green\")\n",
    "plt.tight_layout(pad=2.0)\n",
    "plt.show()"
   ]
  },
  {
   "cell_type": "markdown",
   "id": "d16abb74",
   "metadata": {},
   "source": [
    "<span style=\"display: block; width: 100%; height: 4px; background-color: #3498db;\"></span>"
   ]
  },
  {
   "cell_type": "markdown",
   "id": "572d06e8",
   "metadata": {},
   "source": [
    "<font color=\"navy\">\n",
    "\n",
    "1. **Seaborn Pairplot:**\n",
    "   **- The code utilizes `seaborn` to create a pairplot for selected columns ('Gene', 'Variation', 'Class') in the DataFrame `Merge_Data`.**\n",
    "\n",
    "2. **Comprehensive Visualization:**\n",
    "   **- A pairplot is a grid of scatterplots showing relationships between different pairs of variables.**\n",
    "\n",
    "3. **Variables in Focus:**\n",
    "   **- It visualizes the relationships and distributions between 'Gene', 'Variation', and 'Class'.**\n",
    "\n",
    "4. **Data Point Representation:**\n",
    "   **- Each point on the scatterplots represents a data point, enabling the observation of potential correlations.**\n",
    "\n",
    "5. **Pairwise Interaction Analysis:**\n",
    "   **- Pairplots are useful for understanding the pairwise interactions between variables.**\n",
    "\n",
    "6. **Title Setting:**\n",
    "   **- The title of the pairplot is set to 'Pairplot for Selected Columns' using `plt.title`.**\n",
    "\n",
    "7. **Cluster, Outlier, and Pattern Identification:**\n",
    "   **- Insights into potential clusters, outliers, or patterns can be derived from the pairplot.**\n",
    "\n",
    "8. **Visual Overview:**\n",
    "   **- The code provides a visual overview of the relationships between the specified columns.**\n",
    "\n",
    "9. **Crucial for Feature Analysis:**\n",
    "   **- Understanding these relationships is crucial for feature analysis and model development.**\n",
    "\n",
    "10. **Plot Display:**\n",
    "    **- The plot is displayed using `plt.show()`.**\n",
    "\n",
    "</font>\n",
    "\n",
    "<span style=\"display: block; width: 100%; height: 4px; background-color: #3498db;\"></span>"
   ]
  },
  {
   "cell_type": "code",
   "execution_count": null,
   "id": "2acf8c28",
   "metadata": {},
   "outputs": [],
   "source": [
    "sns.boxplot(x='Class', y='Gene', data=Merge_Data, color='orange')\n",
    "boxprops = dict(edgecolor='black', linewidth=2)\n",
    "plt.title('Boxplot of Gene by Class',color = \"Green\")\n",
    "plt.show()"
   ]
  },
  {
   "cell_type": "markdown",
   "id": "a21903a8",
   "metadata": {},
   "source": [
    "<span style=\"display: block; width: 100%; height: 4px; background-color: #3498db;\"></span>"
   ]
  },
  {
   "cell_type": "markdown",
   "id": "0ec39658",
   "metadata": {},
   "source": [
    "<font color=\"navy\">\n",
    "\n",
    "1. **Seaborn Boxplot:**\n",
    "   **- The provided code utilizes `seaborn` to create a boxplot, specifically focusing on the 'Gene' variable across different classes ('Class') within the DataFrame `Merge_Data`.**\n",
    "\n",
    "2. **Visualization of Distribution:**\n",
    "   **- A boxplot visually represents the distribution of the 'Gene' variable for each class, showcasing key statistics such as median, quartiles, and potential outliers.**\n",
    "\n",
    "3. **Class Comparison:**\n",
    "   **- Each box in the plot corresponds to a class, allowing for a quick comparison of the central tendency and variability of the 'Gene' values across classes.**\n",
    "\n",
    "4. **Axes Representation:**\n",
    "   **- The x-axis represents the different classes, and the y-axis displays the distribution of 'Gene' values.**\n",
    "\n",
    "5. **Title Setting:**\n",
    "   **- The title of the boxplot is set as 'Boxplot of Gene by Class' using the `plt.title` function.**\n",
    "\n",
    "6. **Insights into Variability:**\n",
    "   **- Insights into the spread and central tendency of 'Gene' across different classes can be gained from the boxplot.**\n",
    "\n",
    "7. **Visual Summary:**\n",
    "   **- The code provides a visual summary of how the 'Gene' variable varies with different classes.**\n",
    "\n",
    "8. **Crucial Understanding:**\n",
    "   **- Understanding these variations is crucial for feature analysis and identifying potential class-specific patterns.**\n",
    "\n",
    "9. **Displaying the Plot:**\n",
    "   **- The plot is displayed using `plt.show()`.**\n",
    "\n",
    "</font>\n",
    "\n",
    "<span style=\"display: block; width: 100%; height: 4px; background-color: #3498db;\"></span>"
   ]
  },
  {
   "cell_type": "code",
   "execution_count": null,
   "id": "51e0ffc2",
   "metadata": {},
   "outputs": [],
   "source": [
    "custom_palette = sns.color_palette(\"husl\", n_colors=len(Merge_Data['Class'].unique()))\n",
    "sns.scatterplot(x='Gene', y='Variation', data=Merge_Data, hue='Class', palette=custom_palette, alpha=0.7, edgecolor='none')\n",
    "plt.title('Correlation between Gene and Variation')\n",
    "plt.tight_layout()\n",
    "plt.show()"
   ]
  },
  {
   "cell_type": "markdown",
   "id": "28e5cb46",
   "metadata": {},
   "source": [
    "<span style=\"display: block; width: 100%; height: 4px; background-color: #3498db;\"></span>"
   ]
  },
  {
   "cell_type": "markdown",
   "id": "d2ccfd45",
   "metadata": {},
   "source": [
    "<font color=\"navy\">\n",
    "\n",
    "1. **Seaborn Scatterplot:**\n",
    "   **- The code utilizes `seaborn` to create a scatterplot, visualizing the correlation between the 'Gene' and 'Variation' variables in the DataFrame `Merge_Data`.**\n",
    "\n",
    "2. **Custom Color Palette:**\n",
    "   **- A custom color palette ('husl') is employed to enhance the visual appeal of the scatterplot. The number of unique classes determines the colors, ensuring clarity and distinction.**\n",
    "\n",
    "3. **Insights into Correlation:**\n",
    "   **- The scatterplot allows for the exploration of relationships between 'Gene' and 'Variation'. Each point represents an observation in the dataset, and the color indicates the respective class.**\n",
    "\n",
    "4. **Transparency Setting:**\n",
    "   **- An alpha value of 0.7 is applied to the points, introducing transparency and aiding in the visualization of overlapping data points.**\n",
    "\n",
    "5. **No Edge Color:**\n",
    "   **- The edges around the points are removed ('edgecolor' set to 'none'), providing a smoother appearance and focusing on the colored points.**\n",
    "\n",
    "6. **Axes Representation:**\n",
    "   **- The x-axis corresponds to the 'Gene' variable, while the y-axis represents the 'Variation' variable.**\n",
    "\n",
    "7. **Title Setting:**\n",
    "   **- The title of the scatterplot is specified as 'Correlation between Gene and Variation' using the `plt.title` function.**\n",
    "\n",
    "8. **Layout Adjustment:**\n",
    "   **- The layout is tightened for a more visually appealing presentation using `plt.tight_layout()`.**\n",
    "\n",
    "9. **Insights into Relationships:**\n",
    "   **- The scatterplot aids in identifying patterns, trends, or clusters in the correlation between 'Gene' and 'Variation', potentially offering valuable insights.**\n",
    "\n",
    "10. **Displaying the Plot:**\n",
    "    **- The final plot is displayed using `plt.show()`.**\n",
    "\n",
    "</font>\n",
    "\n",
    "<span style=\"display: block; width: 100%; height: 4px; background-color: #3498db;\"></span>"
   ]
  },
  {
   "cell_type": "code",
   "execution_count": null,
   "id": "cb90d6b4",
   "metadata": {},
   "outputs": [],
   "source": [
    "plt.figure(figsize=(10, 6))\n",
    "sns.violinplot(x='Class', y='Gene', data=Merge_Data, hue='Class', palette='viridis', legend=False)"
   ]
  },
  {
   "cell_type": "markdown",
   "id": "02482f21",
   "metadata": {},
   "source": [
    "<span style=\"display: block; width: 100%; height: 4px; background-color: #3498db;\"></span>"
   ]
  },
  {
   "cell_type": "markdown",
   "id": "c82a5e82",
   "metadata": {},
   "source": [
    "<font color=\"navy\">\n",
    "\n",
    "1. **Seaborn Violin Plot:**\n",
    "   **- The code utilizes `seaborn` to create a violin plot, specifically focusing on the relationship between the 'Gene' variable and different classes ('Class') within the DataFrame `Merge_Data`.**\n",
    "\n",
    "2. **Distribution Analysis:**\n",
    "   **- Violin plots display the distribution of a numeric variable across different categories, offering insights into the central tendency and spread.**\n",
    "\n",
    "3. **Classwise Gene Distribution:**\n",
    "   **- Each violin plot in the figure corresponds to a different class, representing the distribution of 'Gene' values for that class.**\n",
    "\n",
    "4. **Palette Setting:**\n",
    "   **- The 'viridis' color palette is used for visualizing the violin plots.**\n",
    "\n",
    "5. **Figure Size Adjustment:**\n",
    "   **- The size of the figure is adjusted to (12, 8) using `plt.figure(figsize=(12, 8))`.**\n",
    "\n",
    "6. **Title, X-axis, and Y-axis Labels:**\n",
    "   **- The title is set as 'Violin Plot of Gene by Class' using `plt.title`.**\n",
    "   **- The x-axis label is set as 'Class' using `plt.xlabel`.**\n",
    "   **- The y-axis label is set as 'Gene' using `plt.ylabel`.**\n",
    "\n",
    "7. **Insights into Gene Distribution:**\n",
    "   **- Insights into how the distribution of 'Gene' values varies across different classes can be gained from the violin plot.**\n",
    "\n",
    "8. **Visual Summary:**\n",
    "   **- The code provides a visual summary of the relationship between 'Gene' and 'Class'.**\n",
    "\n",
    "9. **Crucial for Feature Analysis:**\n",
    "   **- Understanding these variations is crucial for feature analysis and identifying potential class-specific patterns.**\n",
    "\n",
    "10. **Plot Display:**\n",
    "    **- The plot is displayed using `plt.show()`.**\n",
    "\n",
    "</font>\n",
    "\n",
    "<span style=\"display: block; width: 100%; height: 4px; background-color: #3498db;\"></span>"
   ]
  },
  {
   "cell_type": "raw",
   "id": "f010ba3d",
   "metadata": {},
   "source": [
    "from sklearn.model_selection import train_test_split\n",
    "\n",
    "X = Merge_Data.drop('Class', axis=1)  \n",
    "y = Merge_Data['Class']\n",
    "\n",
    "X_train, X_test, y_train, y_test = train_test_split(X, y, test_size=0.2, random_state=42)\n",
    "\n",
    "print(\"Training set shape (X_train, y_train):\", X_train.shape, y_train.shape)\n",
    "print(\"Testing set shape (X_test, y_test):\", X_test.shape, y_test.shape)"
   ]
  },
  {
   "cell_type": "raw",
   "id": "a58eaecd",
   "metadata": {},
   "source": [
    "from sklearn.preprocessing import MinMaxScaler\n",
    "\n",
    "numeric_features = [\"Class\"]\n",
    "scaler = MinMaxScaler()\n",
    "Merge_Data[numeric_features] = scaler.fit_transform(Merge_Data[numeric_features])"
   ]
  },
  {
   "cell_type": "raw",
   "id": "f4dcbbc3",
   "metadata": {},
   "source": [
    "print(Merge_Data[numeric_features])"
   ]
  },
  {
   "cell_type": "code",
   "execution_count": null,
   "id": "88a6b53d",
   "metadata": {
    "scrolled": true
   },
   "outputs": [],
   "source": [
    "for i in Merge_Data['Text'].values[0:1]:\n",
    "    print(i)\n",
    "    print('==================================\\n')"
   ]
  },
  {
   "cell_type": "code",
   "execution_count": null,
   "id": "140c2bba",
   "metadata": {},
   "outputs": [],
   "source": [
    "import re\n",
    "def decontracted(phrase):\n",
    "    phrase=re.sub(r\"can\\'t\",r\"can not\",phrase)\n",
    "    phrase=re.sub(r\"won't\",r\"will not\",phrase)\n",
    "    \n",
    "    #generally doing\n",
    "    phrase=re.sub(r\"\\'m\",r' am',phrase)\n",
    "    phrase=re.sub(r\"\\'d\",r' would',phrase)\n",
    "    phrase=re.sub(r\"\\'ll\",r' will',phrase)\n",
    "    phrase=re.sub(r\"\\'ve\",r' have',phrase)\n",
    "    phrase=re.sub(r\"\\'s\",r' is',phrase) \n",
    "    phrase=re.sub(r\"\\'t\",r' not',phrase) \n",
    "    phrase=re.sub(r\"\\'re\",r' are',phrase)    \n",
    "\n",
    "    #specificall doing\n",
    "    for i in ['/', '\\\\r', '\\\\n', '?', '\\r', '\\n', '\\\"', ':', '(', ')', '!', '\\t', '\\\\t']:\n",
    "        if i in phrase:\n",
    "            phrase=phrase.replace(i ,\"\")\n",
    "    return phrase"
   ]
  },
  {
   "cell_type": "code",
   "execution_count": null,
   "id": "5533c7e3",
   "metadata": {},
   "outputs": [],
   "source": [
    "# Check the size of the array\n",
    "array_size = len(Merge_Data['Text'].values)\n",
    "print(\"Array size:\", array_size)\n",
    "\n",
    "# Access elements within the valid range\n",
    "if 0 <= 20000 < array_size:\n",
    "    sent = decontracted(Data_1['Text'].values[20000])\n",
    "    print(sent)\n",
    "else:\n",
    "    print(\"Index 20000 is out of bounds for the array.\")"
   ]
  },
  {
   "cell_type": "code",
   "execution_count": null,
   "id": "6422b4e8",
   "metadata": {},
   "outputs": [],
   "source": [
    "from nltk.corpus import stopwords\n",
    "stop = set(stopwords.words('english'))"
   ]
  },
  {
   "cell_type": "code",
   "execution_count": null,
   "id": "5baf4bac",
   "metadata": {},
   "outputs": [],
   "source": [
    "from tqdm import tqdm\n",
    "import numpy as np  # Import numpy for handling NaN values\n",
    "\n",
    "preprocessed_essay = []\n",
    "for sentence in tqdm(Merge_Data['Text'].values):\n",
    "    if isinstance(sentence, str):\n",
    "        sent = decontracted(sentence)\n",
    "        sent = re.sub('[^A-Za-z0-9]+', ' ', sent)\n",
    "        sent = ' '.join(e for e in sent.split() if e not in stop)\n",
    "        preprocessed_essay.append(sent.lower().strip())\n",
    "    else:\n",
    "        # Handle NaN values or non-string elements\n",
    "        preprocessed_essay.append(\"\")  # or any other handling you prefer"
   ]
  },
  {
   "cell_type": "code",
   "execution_count": null,
   "id": "556ea687",
   "metadata": {},
   "outputs": [],
   "source": [
    "Text = Merge_Data['Text']"
   ]
  },
  {
   "cell_type": "markdown",
   "id": "8537a025",
   "metadata": {},
   "source": [
    "# Train Test Split"
   ]
  },
  {
   "cell_type": "code",
   "execution_count": null,
   "id": "735382b9",
   "metadata": {},
   "outputs": [],
   "source": [
    "from sklearn.model_selection import train_test_split\n",
    "\n",
    "x = Merge_Data.drop('Class', axis=1)  \n",
    "y = Merge_Data['Class']\n",
    "\n",
    "x_train, x_test, y_train, y_test = train_test_split(X, y, test_size=0.2, random_state=42)\n",
    "\n",
    "print(\"Training set shape (X_train, y_train):\", X_train.shape, y_train.shape)\n",
    "print(\"Testing set shape (X_test, y_test):\", X_test.shape, y_test.shape)"
   ]
  },
  {
   "cell_type": "code",
   "execution_count": null,
   "id": "728ee872",
   "metadata": {
    "scrolled": true
   },
   "outputs": [],
   "source": [
    "x.head()"
   ]
  },
  {
   "cell_type": "code",
   "execution_count": null,
   "id": "4b2de9e7",
   "metadata": {},
   "outputs": [],
   "source": [
    "y"
   ]
  },
  {
   "cell_type": "markdown",
   "id": "f72e3e71",
   "metadata": {},
   "source": [
    "# Numerical\n",
    "--------------------"
   ]
  },
  {
   "cell_type": "markdown",
   "id": "7d105798",
   "metadata": {},
   "source": [
    "<span style=\"color:Blue; font-size:20px; font-weight:bold;\">Normalisation</span>"
   ]
  },
  {
   "cell_type": "code",
   "execution_count": null,
   "id": "6e28371f",
   "metadata": {},
   "outputs": [],
   "source": [
    "from sklearn.preprocessing import MinMaxScaler\n",
    "\n",
    "numeric_features = [\"Class\"]\n",
    "scaler = MinMaxScaler()\n",
    "Merge_Data[numeric_features] = scaler.fit_transform(Merge_Data[numeric_features])"
   ]
  },
  {
   "cell_type": "markdown",
   "id": "c3676ea9",
   "metadata": {},
   "source": [
    "<span style=\"color:Blue; font-size:20px; font-weight:bold;\">Standardisation</span>"
   ]
  },
  {
   "cell_type": "code",
   "execution_count": null,
   "id": "e3d8cf3a",
   "metadata": {},
   "outputs": [],
   "source": [
    "from sklearn.preprocessing import StandardScaler\n",
    "\n",
    "numeric_features = [\"Class\"]\n",
    "scaler = StandardScaler()\n",
    "Merge_Data[numeric_features] = scaler.fit_transform(Merge_Data[numeric_features])"
   ]
  },
  {
   "cell_type": "markdown",
   "id": "8d307c40",
   "metadata": {},
   "source": [
    "# Categorical\n",
    "------------------------------"
   ]
  },
  {
   "cell_type": "markdown",
   "id": "ac997d04",
   "metadata": {},
   "source": [
    "<span style=\"color:Blue; font-size:20px; font-weight:bold;\">LabelEncodeing</span>"
   ]
  },
  {
   "cell_type": "code",
   "execution_count": null,
   "id": "380231b5",
   "metadata": {},
   "outputs": [],
   "source": [
    "from sklearn import preprocessing\n",
    "\n",
    "label_encoder = preprocessing.LabelEncoder()\n",
    "\n",
    "Merge_Data['Gene'] = label_encoder.fit_transform(Merge_Data['Gene'])\n",
    "Merge_Data['Variation'] = label_encoder.fit_transform(Merge_Data['Variation'])"
   ]
  },
  {
   "cell_type": "markdown",
   "id": "0f1ca838",
   "metadata": {},
   "source": [
    "<span style=\"color:Blue; font-size:20px; font-weight:bold;\">OneHotEncoding</span>"
   ]
  },
  {
   "cell_type": "code",
   "execution_count": null,
   "id": "79ee6168",
   "metadata": {},
   "outputs": [],
   "source": [
    "Merge_Data_encoded = pd.get_dummies(Merge_Data, columns=['Gene', 'Variation'])"
   ]
  },
  {
   "cell_type": "markdown",
   "id": "4b349330",
   "metadata": {},
   "source": [
    "# Text futures"
   ]
  },
  {
   "cell_type": "code",
   "execution_count": null,
   "id": "e98e4b18",
   "metadata": {},
   "outputs": [],
   "source": [
    "from sklearn.feature_extraction.text import TfidfVectorizer\n",
    "import pandas as pd\n",
    "\n",
    "Merge_Data['Text'] = Merge_Data['Text'].str.lower()\n",
    "Merge_Data['Text'] = Merge_Data['Text'].replace('[^\\w\\s]', '', regex=True)\n",
    "\n",
    "tfidf_vectorizer = TfidfVectorizer(stop_words='english', max_features=5000)\n",
    "\n",
    "text_features = tfidf_vectorizer.fit_transform(Merge_Data['Text'].astype('U'))\n",
    "\n",
    "text_df = pd.DataFrame(text_features.toarray(), columns=tfidf_vectorizer.get_feature_names_out())\n",
    "\n",
    "Merge_Data = pd.concat([Merge_Data, text_df], axis=1)\n",
    "\n",
    "Merge_Data = Merge_Data.drop('Text', axis=1)\n",
    "\n",
    "print(Merge_Data.head())"
   ]
  },
  {
   "cell_type": "code",
   "execution_count": null,
   "id": "f9bd7e86",
   "metadata": {},
   "outputs": [],
   "source": []
  },
  {
   "cell_type": "code",
   "execution_count": null,
   "id": "4fde9255",
   "metadata": {},
   "outputs": [],
   "source": []
  }
 ],
 "metadata": {
  "kernelspec": {
   "display_name": "Python 3 (ipykernel)",
   "language": "python",
   "name": "python3"
  },
  "language_info": {
   "codemirror_mode": {
    "name": "ipython",
    "version": 3
   },
   "file_extension": ".py",
   "mimetype": "text/x-python",
   "name": "python",
   "nbconvert_exporter": "python",
   "pygments_lexer": "ipython3",
   "version": "3.11.5"
  }
 },
 "nbformat": 4,
 "nbformat_minor": 5
}
